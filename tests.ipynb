{
 "cells": [
  {
   "cell_type": "code",
   "execution_count": 27,
   "metadata": {},
   "outputs": [
    {
     "output_type": "stream",
     "name": "stdout",
     "text": [
      "The autoreload extension is already loaded. To reload it, use:\n  %reload_ext autoreload\n"
     ]
    }
   ],
   "source": [
    "\n",
    "%load_ext autoreload\n",
    "%autoreload 2\n",
    "\n",
    "import pyll97\n"
   ]
  },
  {
   "cell_type": "code",
   "execution_count": 31,
   "metadata": {},
   "outputs": [
    {
     "output_type": "stream",
     "name": "stdout",
     "text": [
      "[{'type': 'I4', 'area': 22000}, {'type': 'B_REGULAR', 'area': 33472}]\n"
     ]
    }
   ],
   "source": [
    "mybldgareas = [\n",
    "    {\n",
    "        'type': 'I4',\n",
    "        'area': 22000\n",
    "    },\n",
    "    {\n",
    "        'type': 'B_REGULAR',\n",
    "        'area': 33472\n",
    "    }\n",
    "]\n",
    "\n",
    "myutilities = {\n",
    "    'elec': 1134, # kwh\n",
    "    'gas': 3432, # therm\n",
    "    'steam': 43, # pounds steam\n",
    "    'fuel_two': 444, # gal\n",
    "    'fuel_four': 444 # gal\n",
    "}\n",
    "\n",
    "\n",
    "pyll97.get_ll97_summary(mybldgareas, myutilities)\n",
    "\n",
    "\n",
    "\n"
   ]
  },
  {
   "cell_type": "code",
   "execution_count": null,
   "metadata": {},
   "outputs": [],
   "source": []
  }
 ],
 "metadata": {
  "kernelspec": {
   "name": "python385jvsc74a57bd0dca0ade3e726a953b501b15e8e990130d2b7799f14cfd9f4271676035ebe5511",
   "display_name": "Python 3.8.5 64-bit ('base': conda)"
  },
  "language_info": {
   "name": "",
   "version": "3.8.5-final"
  },
  "metadata": {
   "interpreter": {
    "hash": "dca0ade3e726a953b501b15e8e990130d2b7799f14cfd9f4271676035ebe5511"
   }
  }
 },
 "nbformat": 4,
 "nbformat_minor": 4
}