{
 "cells": [
  {
   "cell_type": "code",
   "execution_count": 26,
   "metadata": {},
   "outputs": [
    {
     "output_type": "stream",
     "name": "stdout",
     "text": [
      "The autoreload extension is already loaded. To reload it, use:\n  %reload_ext autoreload\n"
     ]
    }
   ],
   "source": [
    "\n",
    "%load_ext autoreload\n",
    "%autoreload 2\n",
    "\n",
    "import pyll97\n"
   ]
  },
  {
   "source": [
    "results['limits']"
   ],
   "cell_type": "markdown",
   "metadata": {}
  },
  {
   "cell_type": "code",
   "execution_count": 80,
   "metadata": {},
   "outputs": [
    {
     "output_type": "execute_result",
     "data": {
      "text/plain": [
       "{'2024': 0, '2030': 13202.013928000015, '2034': 57395.21392800002}"
      ]
     },
     "metadata": {},
     "execution_count": 80
    }
   ],
   "source": [
    "mybldgareas = [\n",
    "        ('B_REGULAR', 50000),\n",
    "        ('A', 3000)\n",
    "]\n",
    "\n",
    "myutilities = {\n",
    "    'elec': 750000, # kwh\n",
    "    'gas': 10000, # therm\n",
    "    'steam': 250, # mlbs steam\n",
    "    'fuel_two': 500, # gal\n",
    "}\n",
    "\n",
    "results = pyll97.get_ll97_summary(mybldgareas, myutilities)\n",
    "results\n",
    "\n",
    "results['fines']"
   ]
  },
  {
   "cell_type": "code",
   "execution_count": 63,
   "metadata": {},
   "outputs": [
    {
     "output_type": "execute_result",
     "data": {
      "text/plain": [
       "{'2024': 455.22, '2030': 239.1, '2034': 74.2}"
      ]
     },
     "metadata": {},
     "execution_count": 63
    }
   ],
   "source": [
    "results['limits']"
   ]
  },
  {
   "cell_type": "code",
   "execution_count": 64,
   "metadata": {},
   "outputs": [
    {
     "output_type": "execute_result",
     "data": {
      "text/plain": [
       "{'2024': 0, '2030': 11829.722608000011, '2034': 56022.922608000015}"
      ]
     },
     "metadata": {},
     "execution_count": 64
    }
   ],
   "source": [
    "results['fines']"
   ]
  }
 ],
 "metadata": {
  "kernelspec": {
   "name": "python385jvsc74a57bd0dca0ade3e726a953b501b15e8e990130d2b7799f14cfd9f4271676035ebe5511",
   "display_name": "Python 3.8.5 64-bit ('base': conda)"
  },
  "language_info": {
   "name": "",
   "version": "3.8.5-final"
  },
  "metadata": {
   "interpreter": {
    "hash": "dca0ade3e726a953b501b15e8e990130d2b7799f14cfd9f4271676035ebe5511"
   }
  }
 },
 "nbformat": 4,
 "nbformat_minor": 4
}